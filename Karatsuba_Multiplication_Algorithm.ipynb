{
  "nbformat": 4,
  "nbformat_minor": 5,
  "metadata": {
    "kernelspec": {
      "display_name": "Python 3",
      "language": "python",
      "name": "python3"
    },
    "language_info": {
      "codemirror_mode": {
        "name": "ipython",
        "version": 3
      },
      "file_extension": ".py",
      "mimetype": "text/x-python",
      "name": "python",
      "nbconvert_exporter": "python",
      "pygments_lexer": "ipython3",
      "version": "3.9.1"
    },
    "colab": {
      "provenance": [],
      "include_colab_link": true
    }
  },
  "cells": [
    {
      "cell_type": "markdown",
      "metadata": {
        "id": "view-in-github",
        "colab_type": "text"
      },
      "source": [
        "<a href=\"https://colab.research.google.com/github/dowd7/notes/blob/main/Karatsuba_Multiplication_Algorithm.ipynb\" target=\"_parent\"><img src=\"https://colab.research.google.com/assets/colab-badge.svg\" alt=\"Open In Colab\"/></a>"
      ]
    },
    {
      "cell_type": "code",
      "metadata": {
        "colab": {
          "base_uri": "https://localhost:8080/",
          "height": 0
        },
        "id": "purple-flooring",
        "outputId": "e2846f02-ba7b-43be-aa64-b14e5a3826fa"
      },
      "source": [
        "try:\n",
        "    %load_ext autotime\n",
        "except:\n",
        "    !pip install ipython-autotime\n",
        "    %load_ext autotime"
      ],
      "id": "purple-flooring",
      "execution_count": 1,
      "outputs": [
        {
          "output_type": "stream",
          "name": "stdout",
          "text": [
            "Collecting ipython-autotime\n",
            "  Downloading ipython_autotime-0.3.2-py2.py3-none-any.whl.metadata (1.4 kB)\n",
            "Requirement already satisfied: ipython in /usr/local/lib/python3.11/dist-packages (from ipython-autotime) (7.34.0)\n",
            "Requirement already satisfied: setuptools>=18.5 in /usr/local/lib/python3.11/dist-packages (from ipython->ipython-autotime) (75.2.0)\n",
            "Collecting jedi>=0.16 (from ipython->ipython-autotime)\n",
            "  Downloading jedi-0.19.2-py2.py3-none-any.whl.metadata (22 kB)\n",
            "Requirement already satisfied: decorator in /usr/local/lib/python3.11/dist-packages (from ipython->ipython-autotime) (4.4.2)\n",
            "Requirement already satisfied: pickleshare in /usr/local/lib/python3.11/dist-packages (from ipython->ipython-autotime) (0.7.5)\n",
            "Requirement already satisfied: traitlets>=4.2 in /usr/local/lib/python3.11/dist-packages (from ipython->ipython-autotime) (5.7.1)\n",
            "Requirement already satisfied: prompt-toolkit!=3.0.0,!=3.0.1,<3.1.0,>=2.0.0 in /usr/local/lib/python3.11/dist-packages (from ipython->ipython-autotime) (3.0.51)\n",
            "Requirement already satisfied: pygments in /usr/local/lib/python3.11/dist-packages (from ipython->ipython-autotime) (2.19.2)\n",
            "Requirement already satisfied: backcall in /usr/local/lib/python3.11/dist-packages (from ipython->ipython-autotime) (0.2.0)\n",
            "Requirement already satisfied: matplotlib-inline in /usr/local/lib/python3.11/dist-packages (from ipython->ipython-autotime) (0.1.7)\n",
            "Requirement already satisfied: pexpect>4.3 in /usr/local/lib/python3.11/dist-packages (from ipython->ipython-autotime) (4.9.0)\n",
            "Requirement already satisfied: parso<0.9.0,>=0.8.4 in /usr/local/lib/python3.11/dist-packages (from jedi>=0.16->ipython->ipython-autotime) (0.8.4)\n",
            "Requirement already satisfied: ptyprocess>=0.5 in /usr/local/lib/python3.11/dist-packages (from pexpect>4.3->ipython->ipython-autotime) (0.7.0)\n",
            "Requirement already satisfied: wcwidth in /usr/local/lib/python3.11/dist-packages (from prompt-toolkit!=3.0.0,!=3.0.1,<3.1.0,>=2.0.0->ipython->ipython-autotime) (0.2.13)\n",
            "Downloading ipython_autotime-0.3.2-py2.py3-none-any.whl (7.0 kB)\n",
            "Downloading jedi-0.19.2-py2.py3-none-any.whl (1.6 MB)\n",
            "\u001b[2K   \u001b[90m━━━━━━━━━━━━━━━━━━━━━━━━━━━━━━━━━━━━━━━━\u001b[0m \u001b[32m1.6/1.6 MB\u001b[0m \u001b[31m29.7 MB/s\u001b[0m eta \u001b[36m0:00:00\u001b[0m\n",
            "\u001b[?25hInstalling collected packages: jedi, ipython-autotime\n",
            "Successfully installed ipython-autotime-0.3.2 jedi-0.19.2\n",
            "time: 384 µs (started: 2025-08-07 21:43:42 +00:00)\n"
          ]
        }
      ]
    },
    {
      "cell_type": "markdown",
      "metadata": {
        "id": "functional-ethics"
      },
      "source": [
        "## Bitwise representation of numbers\n",
        "\n",
        "We will represent numbers in binary as a sequence of 1s and 0s.\n",
        "Recall  the basics of converting decimal numbers into binary and vice versa.\n",
        "\n",
        "### Example\n",
        "The number 5 in decimal is written as $101$ in binary:\n",
        "$5_{10} = 101_2 $\n",
        "\n",
        "\n",
        "| Decimal | Binary |\n",
        "|---|---|\n",
        "| 5 | 101 |\n",
        "| 12 | 1100 |\n",
        "| 16 | 10000 |\n",
        "| 23 | 10111 |\n",
        "\n",
        "We will represent binary numbers as a list but the least significant bit is the first element and most significant bit is the last element.\n",
        "Eg., the number $(1011)_2$ is written in a list as `[1, 1, 0, 1]`."
      ],
      "id": "functional-ethics"
    },
    {
      "cell_type": "code",
      "metadata": {
        "colab": {
          "base_uri": "https://localhost:8080/",
          "height": 0
        },
        "id": "several-shuttle",
        "outputId": "a0ff444e-e482-4dd0-bea5-884de0ffdb0e"
      },
      "source": [
        "def convert_to_binary(n):\n",
        "    assert n >= 0\n",
        "    if n == 0:\n",
        "        return [0]\n",
        "    lst = []\n",
        "    while n > 0:\n",
        "        lst.append( n % 2)\n",
        "        n = n // 2 # Integer division in python uses //\n",
        "    return lst\n",
        "\n",
        "def convert_to_decimal(lst):\n",
        "    sum = 0\n",
        "    f = 1\n",
        "    for elt in lst:\n",
        "        sum = sum + elt * f\n",
        "        f = f * 2\n",
        "    return sum"
      ],
      "id": "several-shuttle",
      "execution_count": 2,
      "outputs": [
        {
          "output_type": "stream",
          "name": "stdout",
          "text": [
            "time: 1.04 ms (started: 2025-08-07 21:43:42 +00:00)\n"
          ]
        }
      ]
    },
    {
      "cell_type": "code",
      "metadata": {
        "colab": {
          "base_uri": "https://localhost:8080/",
          "height": 0
        },
        "id": "naval-dutch",
        "outputId": "3aff3018-71f7-47d7-c578-563bf8d57f5b"
      },
      "source": [
        "print(f'6 = {convert_to_binary(6)}')\n",
        "print(f'23 = {convert_to_binary(23)}')\n",
        "print(f'46 = {convert_to_binary(46)}')\n",
        "print(f'128 = {convert_to_binary(128)}')\n",
        "print(f'71 = {convert_to_binary(71)}')\n",
        "print(convert_to_decimal([1, 0, 1, 1, 0, 1])) # should be 45\n",
        "print(convert_to_decimal([0, 1, 1, 0, 1])) # should be 22"
      ],
      "id": "naval-dutch",
      "execution_count": 3,
      "outputs": [
        {
          "output_type": "stream",
          "name": "stdout",
          "text": [
            "6 = [0, 1, 1]\n",
            "23 = [1, 1, 1, 0, 1]\n",
            "46 = [0, 1, 1, 1, 0, 1]\n",
            "128 = [0, 0, 0, 0, 0, 0, 0, 1]\n",
            "71 = [1, 1, 1, 0, 0, 0, 1]\n",
            "45\n",
            "22\n",
            "time: 2.07 ms (started: 2025-08-07 21:43:42 +00:00)\n"
          ]
        }
      ]
    },
    {
      "cell_type": "markdown",
      "metadata": {
        "id": "copyrighted-variance"
      },
      "source": [
        "## Addition and Subtraction\n",
        "\n",
        "We will implement addition and subtraction for binary numbers.\n",
        "Addition was discussed in the lecture. For subtraction, we use a very nice trick called twos-complement method that turns subtraction into addition after flipping 1s and 0s.\n",
        "See here for a quick explanation:\n",
        "\n",
        "https://www.geeksforgeeks.org/subtraction-of-two-numbers-using-2s-complement/"
      ],
      "id": "copyrighted-variance"
    },
    {
      "cell_type": "code",
      "metadata": {
        "colab": {
          "base_uri": "https://localhost:8080/",
          "height": 0
        },
        "id": "curious-shakespeare",
        "outputId": "f6ef27b1-4ee4-41b6-8c2f-7651464de9cf"
      },
      "source": [
        "def bitwise_add(ai, bi, ci):\n",
        "    if ai == 0:\n",
        "        if bi == 0:\n",
        "            return (ci, 0)\n",
        "        else: # ai= 0, bi = 1\n",
        "            return (1-ci, ci)\n",
        "    else:\n",
        "        if bi == 0:\n",
        "            return (1-ci, ci)\n",
        "        else:\n",
        "            return (ci, 1)\n",
        "\n",
        "def add(a, b):\n",
        "    # add bit strings a, b\n",
        "    (n, m) = len(a), len(b)\n",
        "    carry = 0\n",
        "    c = []\n",
        "    for i in range(max(m,n)):\n",
        "        ai = a[i] if i < n else 0\n",
        "        bi = b[i] if i < m else 0\n",
        "        (ci, carry) = bitwise_add(ai, bi, carry)\n",
        "        c.append(ci)\n",
        "    if carry == 1:\n",
        "        c.append(carry)\n",
        "    return c\n",
        "\n",
        "def subtract(a, b):\n",
        "    # we will use two's complement subtraction\n",
        "    # this is a very nice and common trick where\n",
        "    # we can use addition to perform subraction of\n",
        "    # binary numbers. It is used inside computers.\n",
        "    # assume a >= b -- this will generally hold for all our use cases\n",
        "    n = len(a)\n",
        "    #assert(len(b) <= n)\n",
        "    k = len(a) - len(b)\n",
        "    bcomp = [1-elt for elt in b] + [1]*k # flip the bits in b and pad with 1s\n",
        "    bcomp2 = add(bcomp, [1]) # add 1\n",
        "    r = add(a, bcomp2)\n",
        "    return r[0:n]\n",
        "\n",
        "def pad(a, k):\n",
        "    return  [0]*k + a"
      ],
      "id": "curious-shakespeare",
      "execution_count": 4,
      "outputs": [
        {
          "output_type": "stream",
          "name": "stdout",
          "text": [
            "time: 2.16 ms (started: 2025-08-07 21:43:42 +00:00)\n"
          ]
        }
      ]
    },
    {
      "cell_type": "code",
      "metadata": {
        "colab": {
          "base_uri": "https://localhost:8080/",
          "height": 0
        },
        "id": "romantic-corporation",
        "outputId": "5637cda2-42e0-41f1-87b8-f1224296867d"
      },
      "source": [
        "print(add([1,0,1,1,0], [1, 0, 0, 0, 1])) # should be 0, 1, 1, 1, 1\n",
        "print(add([0, 1, 1], [1, 1, 1])) # should be 1, 0, 1, 1\n",
        "print(add([0, 1], [1, 1, 1])) # should be 1, 0, 0, 1\n",
        "print(add([0], [1,0,1,0,1,1,0,1])) # should be 1, 0, 1, 0, 1, 1, 0, 1"
      ],
      "id": "romantic-corporation",
      "execution_count": 5,
      "outputs": [
        {
          "output_type": "stream",
          "name": "stdout",
          "text": [
            "[0, 1, 1, 1, 1]\n",
            "[1, 0, 1, 1]\n",
            "[1, 0, 0, 1]\n",
            "[1, 0, 1, 0, 1, 1, 0, 1]\n",
            "time: 1.12 ms (started: 2025-08-07 21:43:42 +00:00)\n"
          ]
        }
      ]
    },
    {
      "cell_type": "code",
      "metadata": {
        "id": "becoming-premises",
        "outputId": "e702587c-0bae-44d9-d5f1-c5f792df1e9b",
        "colab": {
          "base_uri": "https://localhost:8080/",
          "height": 0
        }
      },
      "source": [
        "print(subtract([1,1,1],[1])) # should be [0, 1, 1]\n",
        "print(subtract([1,0,1], [0, 1])) # should be [1, 1, 0]\n",
        "print(subtract([0, 0, 0, 1], [1, 1])) # should be [1, 0, 1, 0]\n",
        "print(subtract([0, 1, 0, 1], [1, 0, 0, 1])) # should be [1, 0, 0, 0]\n",
        "print(subtract([0, 1, 0, 1, 1, 1, 0, 1],[0]))"
      ],
      "id": "becoming-premises",
      "execution_count": 6,
      "outputs": [
        {
          "output_type": "stream",
          "name": "stdout",
          "text": [
            "[0, 1, 1]\n",
            "[1, 1, 0]\n",
            "[1, 0, 1, 0]\n",
            "[1, 0, 0, 0]\n",
            "[0, 1, 0, 1, 1, 1, 0, 1]\n",
            "time: 1.16 ms (started: 2025-08-07 21:43:42 +00:00)\n"
          ]
        }
      ]
    },
    {
      "cell_type": "code",
      "metadata": {
        "id": "intended-wrong",
        "outputId": "9e8e4012-ccee-4435-95e9-d9beeb77ce97",
        "colab": {
          "base_uri": "https://localhost:8080/",
          "height": 0
        }
      },
      "source": [
        "def grade_school_multiply(a, b):\n",
        "    n, m = len(a), len(b)\n",
        "    tmp = a\n",
        "    res = [0]\n",
        "    for bit in b:\n",
        "        if bit == 1:\n",
        "            res = add(res, tmp)\n",
        "        tmp = [0]+tmp # shift tmp\n",
        "    return res"
      ],
      "id": "intended-wrong",
      "execution_count": 7,
      "outputs": [
        {
          "output_type": "stream",
          "name": "stdout",
          "text": [
            "time: 5.87 ms (started: 2025-08-07 21:43:42 +00:00)\n"
          ]
        }
      ]
    },
    {
      "cell_type": "code",
      "metadata": {
        "id": "resistant-romantic",
        "outputId": "0e270a5d-491e-4884-fc25-8dd501ba6b1f",
        "colab": {
          "base_uri": "https://localhost:8080/",
          "height": 0
        }
      },
      "source": [
        "print(grade_school_multiply([1, 0, 1], [0, 1])) #  should be 0, 1, 0, 1\n",
        "print(grade_school_multiply([0, 1, 1], [1, 1])) # should be 0, 1, 0, 0 , 1\n",
        "print(grade_school_multiply([0, 0, 1], [1, 0, 1])) # should be 0, 0, 1, 0 , 1\n",
        "print(grade_school_multiply([0, 0, 0, 1], [1, 0, 1])) # should be 0, 0, 0, 1, 0, 1"
      ],
      "id": "resistant-romantic",
      "execution_count": 8,
      "outputs": [
        {
          "output_type": "stream",
          "name": "stdout",
          "text": [
            "[0, 1, 0, 1]\n",
            "[0, 1, 0, 0, 1]\n",
            "[0, 0, 1, 0, 1]\n",
            "[0, 0, 0, 1, 0, 1]\n",
            "time: 6.17 ms (started: 2025-08-07 21:43:42 +00:00)\n"
          ]
        }
      ]
    },
    {
      "cell_type": "code",
      "metadata": {
        "id": "occasional-nothing",
        "outputId": "23bb4981-d94b-4d2e-9402-28d7f0acd7d1",
        "colab": {
          "base_uri": "https://localhost:8080/",
          "height": 0
        }
      },
      "source": [
        "def karatsuba_multiply(a, b):\n",
        "    (m, n) = len(a), len(b)\n",
        "    if m <= 2 or n <= 2:\n",
        "        # revert to grade school multiplication\n",
        "        return grade_school_multiply(a, b)\n",
        "    else:\n",
        "        mid1 = m//2\n",
        "        a1 = a[0:mid1]\n",
        "        a2 = a[mid1:]\n",
        "        b1 = b[0:mid1]\n",
        "        b2 = b[mid1:]\n",
        "        # [a] = 2^{mid1} * [a2] + [a1]\n",
        "        # [b] = 2^{mid1} * [b2] + [b1]\n",
        "        # [a]* [b] = 2^{2*mid1} ([a2]*[b2]) + 2^mid1 ([a2]*[b1] + [a2]*[b1]) + [a1]*[b1]\n",
        "\n",
        "        # 3 recursive calls to karatsuba_multiply\n",
        "        r1 = karatsuba_multiply(a1, b1)\n",
        "        r2 = karatsuba_multiply(a2, b2)\n",
        "        r3 = karatsuba_multiply(add(a1, a2), add(b1, b2))\n",
        "        # Do subtraction\n",
        "        r4a = subtract(r3, r1)\n",
        "        r4 = subtract(r4a, r2)\n",
        "\n",
        "        # Do paddding\n",
        "        s1 = pad(r2, 2*mid1)\n",
        "        s2 = pad(r4, mid1)\n",
        "        s3 = add(s1, s2)\n",
        "        return add(s3, r1)"
      ],
      "id": "occasional-nothing",
      "execution_count": 9,
      "outputs": [
        {
          "output_type": "stream",
          "name": "stdout",
          "text": [
            "time: 1.79 ms (started: 2025-08-07 21:43:42 +00:00)\n"
          ]
        }
      ]
    },
    {
      "cell_type": "code",
      "metadata": {
        "id": "stopped-evolution",
        "outputId": "7c6d85fc-08ff-4891-9744-92ea78092998",
        "colab": {
          "base_uri": "https://localhost:8080/",
          "height": 0
        }
      },
      "source": [
        "print(karatsuba_multiply([0, 0, 0, 1], [1, 0, 1])) # should be 0, 0, 0, 1, 0, 1\n",
        "print(karatsuba_multiply([0, 0, 1], [1, 0, 1])) # should be 0, 0, 1, 0 , 1"
      ],
      "id": "stopped-evolution",
      "execution_count": 10,
      "outputs": [
        {
          "output_type": "stream",
          "name": "stdout",
          "text": [
            "[0, 0, 0, 1, 0, 1]\n",
            "[0, 0, 1, 0, 1]\n",
            "time: 1.55 ms (started: 2025-08-07 21:43:42 +00:00)\n"
          ]
        }
      ]
    },
    {
      "cell_type": "code",
      "metadata": {
        "id": "entertaining-contact",
        "outputId": "01177975-7810-42da-961e-76df1344e650",
        "colab": {
          "base_uri": "https://localhost:8080/",
          "height": 0
        }
      },
      "source": [
        "print(grade_school_multiply([1, 0, 1, 1, 0, 1, 0, 1, 1, 0, 1, 1, 0, 1, 1, 1, 0, 1, 1, 0, 1, 1, 0], [0, 1, 0, 1, 1, 0, 1, 1, 0, 1, 0, 1, 0, 0, 0, 0, 1, 1, 1, 0, 1, 0,1]))"
      ],
      "id": "entertaining-contact",
      "execution_count": 11,
      "outputs": [
        {
          "output_type": "stream",
          "name": "stdout",
          "text": [
            "[0, 1, 0, 0, 1, 0, 1, 0, 1, 1, 1, 0, 0, 1, 0, 0, 0, 1, 0, 1, 1, 0, 1, 1, 1, 0, 0, 1, 1, 0, 0, 0, 1, 0, 1, 1, 0, 1, 0, 1, 0, 1, 0, 0, 1]\n",
            "time: 1.42 ms (started: 2025-08-07 21:43:42 +00:00)\n"
          ]
        }
      ]
    },
    {
      "cell_type": "code",
      "metadata": {
        "id": "automatic-register",
        "outputId": "c997964e-9086-40b1-ebe7-1c2f6c1f7877",
        "colab": {
          "base_uri": "https://localhost:8080/",
          "height": 0
        }
      },
      "source": [
        "print(karatsuba_multiply([1, 0, 1, 1, 0, 1, 0, 1, 1, 0, 1, 1, 0, 1, 1, 1, 0, 1, 1, 0, 1, 1, 0], [0, 1, 0, 1, 1, 0, 1, 1, 0, 1, 0, 1, 0, 0, 0, 0, 1, 1, 1, 0, 1, 0,1]))"
      ],
      "id": "automatic-register",
      "execution_count": 12,
      "outputs": [
        {
          "output_type": "stream",
          "name": "stdout",
          "text": [
            "[0, 1, 0, 0, 1, 0, 1, 0, 1, 1, 1, 0, 0, 1, 0, 0, 0, 1, 0, 1, 1, 0, 1, 1, 1, 0, 0, 1, 1, 0, 0, 0, 1, 0, 1, 1, 0, 1, 0, 1, 0, 1, 0, 0, 1]\n",
            "time: 7.83 ms (started: 2025-08-07 21:43:42 +00:00)\n"
          ]
        }
      ]
    },
    {
      "cell_type": "code",
      "metadata": {
        "id": "several-unemployment",
        "outputId": "df438c87-45a1-4c65-ee7c-dffd723dff67",
        "colab": {
          "base_uri": "https://localhost:8080/"
        }
      },
      "source": [
        "from random import randint\n",
        "a = [randint(0, 1) for j in range(10000)]\n",
        "b = [randint(0, 1) for j in range(10000)]\n"
      ],
      "id": "several-unemployment",
      "execution_count": 18,
      "outputs": [
        {
          "output_type": "stream",
          "name": "stdout",
          "text": [
            "time: 11.9 ms (started: 2025-08-07 21:47:37 +00:00)\n"
          ]
        }
      ]
    },
    {
      "cell_type": "code",
      "metadata": {
        "id": "conservative-being",
        "outputId": "a56858cc-1fc8-4d46-adbb-6903a8cbccf2",
        "colab": {
          "base_uri": "https://localhost:8080/"
        }
      },
      "source": [
        "c = grade_school_multiply(a,b)"
      ],
      "id": "conservative-being",
      "execution_count": 19,
      "outputs": [
        {
          "output_type": "stream",
          "name": "stdout",
          "text": [
            "time: 17.2 s (started: 2025-08-07 21:47:40 +00:00)\n"
          ]
        }
      ]
    },
    {
      "cell_type": "code",
      "metadata": {
        "id": "macro-alexandria",
        "outputId": "8587c832-2f74-49a7-fe7b-7f4655c5a73c",
        "colab": {
          "base_uri": "https://localhost:8080/",
          "height": 0
        }
      },
      "source": [
        "c = karatsuba_multiply(a, b)"
      ],
      "id": "macro-alexandria",
      "execution_count": 15,
      "outputs": [
        {
          "output_type": "stream",
          "name": "stdout",
          "text": [
            "time: 17.5 s (started: 2025-08-07 21:44:04 +00:00)\n"
          ]
        }
      ]
    }
  ]
}